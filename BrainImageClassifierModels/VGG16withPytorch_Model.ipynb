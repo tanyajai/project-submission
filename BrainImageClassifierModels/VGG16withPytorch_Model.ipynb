{
  "nbformat": 4,
  "nbformat_minor": 0,
  "metadata": {
    "colab": {
      "name": "Vgg.ipynb",
      "provenance": [],
      "collapsed_sections": []
    },
    "kernelspec": {
      "name": "python3",
      "display_name": "Python 3"
    },
    "widgets": {
      "application/vnd.jupyter.widget-state+json": {
        "ff7c362c1d944584bf1de9e12b27b866": {
          "model_module": "@jupyter-widgets/controls",
          "model_name": "HBoxModel",
          "state": {
            "_view_name": "HBoxView",
            "_dom_classes": [],
            "_model_name": "HBoxModel",
            "_view_module": "@jupyter-widgets/controls",
            "_model_module_version": "1.5.0",
            "_view_count": null,
            "_view_module_version": "1.5.0",
            "box_style": "",
            "layout": "IPY_MODEL_6526eb95b6af47b88eed400fa5995417",
            "_model_module": "@jupyter-widgets/controls",
            "children": [
              "IPY_MODEL_a24c04d9df9344ba9bf65456706ab3e8",
              "IPY_MODEL_6e802702873942ebae2cd652642e59b7"
            ]
          }
        },
        "6526eb95b6af47b88eed400fa5995417": {
          "model_module": "@jupyter-widgets/base",
          "model_name": "LayoutModel",
          "state": {
            "_view_name": "LayoutView",
            "grid_template_rows": null,
            "right": null,
            "justify_content": null,
            "_view_module": "@jupyter-widgets/base",
            "overflow": null,
            "_model_module_version": "1.2.0",
            "_view_count": null,
            "flex_flow": null,
            "width": null,
            "min_width": null,
            "border": null,
            "align_items": null,
            "bottom": null,
            "_model_module": "@jupyter-widgets/base",
            "top": null,
            "grid_column": null,
            "overflow_y": null,
            "overflow_x": null,
            "grid_auto_flow": null,
            "grid_area": null,
            "grid_template_columns": null,
            "flex": null,
            "_model_name": "LayoutModel",
            "justify_items": null,
            "grid_row": null,
            "max_height": null,
            "align_content": null,
            "visibility": null,
            "align_self": null,
            "height": null,
            "min_height": null,
            "padding": null,
            "grid_auto_rows": null,
            "grid_gap": null,
            "max_width": null,
            "order": null,
            "_view_module_version": "1.2.0",
            "grid_template_areas": null,
            "object_position": null,
            "object_fit": null,
            "grid_auto_columns": null,
            "margin": null,
            "display": null,
            "left": null
          }
        },
        "a24c04d9df9344ba9bf65456706ab3e8": {
          "model_module": "@jupyter-widgets/controls",
          "model_name": "IntProgressModel",
          "state": {
            "_view_name": "ProgressView",
            "style": "IPY_MODEL_406deaf67155471f9245325d96691dc5",
            "_dom_classes": [],
            "description": "100%",
            "_model_name": "IntProgressModel",
            "bar_style": "success",
            "max": 553433881,
            "_view_module": "@jupyter-widgets/controls",
            "_model_module_version": "1.5.0",
            "value": 553433881,
            "_view_count": null,
            "_view_module_version": "1.5.0",
            "orientation": "horizontal",
            "min": 0,
            "description_tooltip": null,
            "_model_module": "@jupyter-widgets/controls",
            "layout": "IPY_MODEL_84b6b408dbc44872b12a8660f3aaa2f6"
          }
        },
        "6e802702873942ebae2cd652642e59b7": {
          "model_module": "@jupyter-widgets/controls",
          "model_name": "HTMLModel",
          "state": {
            "_view_name": "HTMLView",
            "style": "IPY_MODEL_ff7d45d2f30941eb8aa22ed317c67164",
            "_dom_classes": [],
            "description": "",
            "_model_name": "HTMLModel",
            "placeholder": "​",
            "_view_module": "@jupyter-widgets/controls",
            "_model_module_version": "1.5.0",
            "value": " 528M/528M [09:53&lt;00:00, 932kB/s]",
            "_view_count": null,
            "_view_module_version": "1.5.0",
            "description_tooltip": null,
            "_model_module": "@jupyter-widgets/controls",
            "layout": "IPY_MODEL_3b15fedaf33d49b9bd671cf59589146e"
          }
        },
        "406deaf67155471f9245325d96691dc5": {
          "model_module": "@jupyter-widgets/controls",
          "model_name": "ProgressStyleModel",
          "state": {
            "_view_name": "StyleView",
            "_model_name": "ProgressStyleModel",
            "description_width": "initial",
            "_view_module": "@jupyter-widgets/base",
            "_model_module_version": "1.5.0",
            "_view_count": null,
            "_view_module_version": "1.2.0",
            "bar_color": null,
            "_model_module": "@jupyter-widgets/controls"
          }
        },
        "84b6b408dbc44872b12a8660f3aaa2f6": {
          "model_module": "@jupyter-widgets/base",
          "model_name": "LayoutModel",
          "state": {
            "_view_name": "LayoutView",
            "grid_template_rows": null,
            "right": null,
            "justify_content": null,
            "_view_module": "@jupyter-widgets/base",
            "overflow": null,
            "_model_module_version": "1.2.0",
            "_view_count": null,
            "flex_flow": null,
            "width": null,
            "min_width": null,
            "border": null,
            "align_items": null,
            "bottom": null,
            "_model_module": "@jupyter-widgets/base",
            "top": null,
            "grid_column": null,
            "overflow_y": null,
            "overflow_x": null,
            "grid_auto_flow": null,
            "grid_area": null,
            "grid_template_columns": null,
            "flex": null,
            "_model_name": "LayoutModel",
            "justify_items": null,
            "grid_row": null,
            "max_height": null,
            "align_content": null,
            "visibility": null,
            "align_self": null,
            "height": null,
            "min_height": null,
            "padding": null,
            "grid_auto_rows": null,
            "grid_gap": null,
            "max_width": null,
            "order": null,
            "_view_module_version": "1.2.0",
            "grid_template_areas": null,
            "object_position": null,
            "object_fit": null,
            "grid_auto_columns": null,
            "margin": null,
            "display": null,
            "left": null
          }
        },
        "ff7d45d2f30941eb8aa22ed317c67164": {
          "model_module": "@jupyter-widgets/controls",
          "model_name": "DescriptionStyleModel",
          "state": {
            "_view_name": "StyleView",
            "_model_name": "DescriptionStyleModel",
            "description_width": "",
            "_view_module": "@jupyter-widgets/base",
            "_model_module_version": "1.5.0",
            "_view_count": null,
            "_view_module_version": "1.2.0",
            "_model_module": "@jupyter-widgets/controls"
          }
        },
        "3b15fedaf33d49b9bd671cf59589146e": {
          "model_module": "@jupyter-widgets/base",
          "model_name": "LayoutModel",
          "state": {
            "_view_name": "LayoutView",
            "grid_template_rows": null,
            "right": null,
            "justify_content": null,
            "_view_module": "@jupyter-widgets/base",
            "overflow": null,
            "_model_module_version": "1.2.0",
            "_view_count": null,
            "flex_flow": null,
            "width": null,
            "min_width": null,
            "border": null,
            "align_items": null,
            "bottom": null,
            "_model_module": "@jupyter-widgets/base",
            "top": null,
            "grid_column": null,
            "overflow_y": null,
            "overflow_x": null,
            "grid_auto_flow": null,
            "grid_area": null,
            "grid_template_columns": null,
            "flex": null,
            "_model_name": "LayoutModel",
            "justify_items": null,
            "grid_row": null,
            "max_height": null,
            "align_content": null,
            "visibility": null,
            "align_self": null,
            "height": null,
            "min_height": null,
            "padding": null,
            "grid_auto_rows": null,
            "grid_gap": null,
            "max_width": null,
            "order": null,
            "_view_module_version": "1.2.0",
            "grid_template_areas": null,
            "object_position": null,
            "object_fit": null,
            "grid_auto_columns": null,
            "margin": null,
            "display": null,
            "left": null
          }
        }
      }
    }
  },
  "cells": [
    {
      "cell_type": "markdown",
      "metadata": {
        "id": "p9K2JhtVJzwq",
        "colab_type": "text"
      },
      "source": [
        "# Brain Tumor MR Image Classification"
      ]
    },
    {
      "cell_type": "markdown",
      "metadata": {
        "id": "yIVmQvx6J3qg",
        "colab_type": "text"
      },
      "source": [
        "In this model we have used VGG16 Network as CNN for constructing Brain Image Classifier."
      ]
    },
    {
      "cell_type": "code",
      "metadata": {
        "id": "--NS9MS7NaBN",
        "colab_type": "code",
        "outputId": "ac6725fd-85c7-4997-d150-6254cd9729e3",
        "colab": {
          "base_uri": "https://localhost:8080/",
          "height": 72
        }
      },
      "source": [
        "# Import resources\n",
        "import os\n",
        "import numpy as np\n",
        "import pandas as pd\n",
        "import cv2\n",
        "import imutils\n",
        "import shutil\n",
        "import torch\n",
        "from PIL import Image\n",
        "import torch.nn as nn\n",
        "import torch.nn.functional as F\n",
        "import torch.optim as optim\n",
        "import torchvision\n",
        "import torchvision.transforms as transforms\n",
        "from torchvision import datasets, models, transforms\n",
        "import torchvision.models as models\n",
        "import torch.utils.model_zoo\n",
        "import seaborn as sns\n",
        "import pickle\n",
        "import matplotlib.pyplot as plt"
      ],
      "execution_count": 0,
      "outputs": [
        {
          "output_type": "stream",
          "text": [
            "/usr/local/lib/python3.6/dist-packages/statsmodels/tools/_testing.py:19: FutureWarning: pandas.util.testing is deprecated. Use the functions in the public API at pandas.testing instead.\n",
            "  import pandas.util.testing as tm\n"
          ],
          "name": "stderr"
        }
      ]
    },
    {
      "cell_type": "code",
      "metadata": {
        "id": "7sZHsxBQD9Bu",
        "colab_type": "code",
        "colab": {}
      },
      "source": [
        "# shutil.rmtree('./train')\n",
        "# shutil.rmtree('./valid')"
      ],
      "execution_count": 0,
      "outputs": []
    },
    {
      "cell_type": "markdown",
      "metadata": {
        "id": "WFhot8C_KPFT",
        "colab_type": "text"
      },
      "source": [
        "Import the data from MRI_data.zip"
      ]
    },
    {
      "cell_type": "markdown",
      "metadata": {
        "id": "w1zldSHDMS7v",
        "colab_type": "text"
      },
      "source": [
        "Here the data is provided in two folders namely 'Train' and 'Valid' which specifies training and validation set of images. These two folders contain two subfolders namely 'Yes' and 'No' specifying whether the brain images have tumor or not."
      ]
    },
    {
      "cell_type": "code",
      "metadata": {
        "id": "3PSfm8pANebi",
        "colab_type": "code",
        "colab": {}
      },
      "source": [
        "!unzip -qq MRI_data.zip"
      ],
      "execution_count": 0,
      "outputs": []
    },
    {
      "cell_type": "markdown",
      "metadata": {
        "id": "bGRh4m5LNHF-",
        "colab_type": "text"
      },
      "source": [
        "Sample Brain MR Image with Tumor"
      ]
    },
    {
      "cell_type": "code",
      "metadata": {
        "id": "Ccr9JGjRFIOm",
        "colab_type": "code",
        "outputId": "430d548b-74fb-4773-87ac-80b40e9b896e",
        "colab": {
          "base_uri": "https://localhost:8080/",
          "height": 273
        }
      },
      "source": [
        "Image.open('./train/yes/Y102.jpg').resize((256,256))"
      ],
      "execution_count": 0,
      "outputs": [
        {
          "output_type": "execute_result",
          "data": {
            "image/png": "[encoded data removed]",
            "text/plain": [
              "<PIL.Image.Image image mode=RGB size=256x256 at 0x7F7E7F23A4A8>"
            ]
          },
          "metadata": {
            "tags": []
          },
          "execution_count": 4
        }
      ]
    },
    {
      "cell_type": "markdown",
      "metadata": {
        "id": "tCDdXpR_NK1R",
        "colab_type": "text"
      },
      "source": [
        "Sample Brain MR Image without Tumor"
      ]
    },
    {
      "cell_type": "code",
      "metadata": {
        "id": "5O4oYt0CFsKL",
        "colab_type": "code",
        "outputId": "1214fdc1-fc56-4d88-85f2-e9af12f7f10e",
        "colab": {
          "base_uri": "https://localhost:8080/",
          "height": 273
        }
      },
      "source": [
        "Image.open('./valid/no/no 89.jpg').resize((256,256))"
      ],
      "execution_count": 0,
      "outputs": [
        {
          "output_type": "execute_result",
          "data": {
            "image/png": "[encoded data removed]",
            "text/plain": [
              "<PIL.Image.Image image mode=RGB size=256x256 at 0x7F40168C1E10>"
            ]
          },
          "metadata": {
            "tags": []
          },
          "execution_count": 5
        }
      ]
    },
    {
      "cell_type": "markdown",
      "metadata": {
        "id": "2L20saurNNA2",
        "colab_type": "text"
      },
      "source": [
        "Distribution of Classes in Brain Images"
      ]
    },
    {
      "cell_type": "code",
      "metadata": {
        "id": "zWlx1C8YMvvk",
        "colab_type": "code",
        "outputId": "dc87c418-29c6-42d2-da14-f2e5843e2a27",
        "colab": {
          "base_uri": "https://localhost:8080/",
          "height": 313
        }
      },
      "source": [
        "def fcount(path):\n",
        "    #Counts the number of files in a directory\n",
        "    count = 0\n",
        "    for f in os.listdir(path):\n",
        "        if os.path.isfile(os.path.join(path, f)):\n",
        "            count += 1\n",
        "    return count\n",
        "\n",
        "path_tr_no = r\"./train/no\"\n",
        "path_tr_yes = r\"./train/yes\"\n",
        "path_va_no = r\"./valid/no\"\n",
        "path_va_yes = r\"./valid/yes\"\n",
        "\n",
        "tr_no = fcount(path_tr_no)\n",
        "tr_yes = fcount(path_tr_yes)\n",
        "va_no = fcount(path_va_no)\n",
        "va_yes= fcount(path_va_yes)\n",
        "\n",
        "df = pd.DataFrame() \n",
        "cnt_data = {'x':['Train Set No','Train Set Yes' ,'Valid Set No','Valid Set Yes'], \n",
        "            'y':[tr_no,tr_yes,va_no,va_yes],\n",
        "            'z':['no','yes','no','yes']}\n",
        "df = pd.DataFrame(cnt_data) \n",
        "\n",
        "ax=sns.barplot(x='x',y='y',hue='z',data=df)\n",
        "ax.set(xlabel=\"Image Classes\", ylabel = \"Image Count\")\n",
        "ax.set_title(\"Distribution of Classes in Brain Images\")"
      ],
      "execution_count": 0,
      "outputs": [
        {
          "output_type": "execute_result",
          "data": {
            "text/plain": [
              "Text(0.5, 1.0, 'Distribution of Classes in Brain Images')"
            ]
          },
          "metadata": {
            "tags": []
          },
          "execution_count": 6
        },
        {
          "output_type": "display_data",
          "data": {
            "image/png": "[encoded data removed]",
            "text/plain": [
              "<Figure size 432x288 with 1 Axes>"
            ]
          },
          "metadata": {
            "tags": [],
            "needs_background": "light"
          }
        }
      ]
    },
    {
      "cell_type": "markdown",
      "metadata": {
        "id": "d66-1NAtNRzg",
        "colab_type": "text"
      },
      "source": [
        "# Image Preprocessing"
      ]
    },
    {
      "cell_type": "markdown",
      "metadata": {
        "id": "udhDfiS9NXEA",
        "colab_type": "text"
      },
      "source": [
        "Step 1: Cropping the Images along the contours and Gaussian Blurring"
      ]
    },
    {
      "cell_type": "code",
      "metadata": {
        "id": "2A8Ya1M01Q0r",
        "colab_type": "code",
        "colab": {}
      },
      "source": [
        "# Cropping MRI Brain Images \n",
        "def load_edge_crop(filename):\n",
        "\n",
        "    images = list()\n",
        "    for fname in os.listdir(filename):\n",
        "        img = cv2.imread(filename + '/' + fname,0)\n",
        "        img = cv2.GaussianBlur(img, (5, 5), 0)\n",
        "\n",
        "        # threshold the image, then perform a series of erosions +\n",
        "        # dilations to remove any small regions of noise\n",
        "        thresh = cv2.threshold(img, 45, 255, cv2.THRESH_BINARY)[1]\n",
        "        thresh = cv2.erode(thresh, None, iterations=2)\n",
        "        thresh = cv2.dilate(thresh, None, iterations=2)\n",
        "\n",
        "        # find contours in thresholded image, then grab the largest one\n",
        "        cnts = cv2.findContours(thresh.copy(), cv2.RETR_EXTERNAL, cv2.CHAIN_APPROX_SIMPLE)\n",
        "        cnts = imutils.grab_contours(cnts)\n",
        "        c = max(cnts, key=cv2.contourArea)\n",
        "\n",
        "        # find the extreme points\n",
        "        extLeft = tuple(c[c[:, :, 0].argmin()][0])\n",
        "        extRight = tuple(c[c[:, :, 0].argmax()][0])\n",
        "        extTop = tuple(c[c[:, :, 1].argmin()][0])\n",
        "        extBot = tuple(c[c[:, :, 1].argmax()][0])\n",
        "\n",
        "        new_img = img[extTop[1]:extBot[1], extLeft[0]:extRight[0]].copy()\n",
        "        new_img = cv2.resize(new_img,dsize=(32,32))\n",
        "        images.append(new_img)\n",
        "\n",
        "    shutil.rmtree(filename)\n",
        "    os.mkdir(filename)\n",
        "\n",
        "    for index,img in enumerate(images):\n",
        "        cv2.imwrite(filename + '/' + str(index) + '.jpg',img)\n",
        "\n",
        "load_edge_crop('./train/no')\n",
        "load_edge_crop('./train/yes')\n",
        "load_edge_crop('./valid/no')\n",
        "load_edge_crop('./valid/yes')"
      ],
      "execution_count": 0,
      "outputs": []
    },
    {
      "cell_type": "markdown",
      "metadata": {
        "id": "qOntFKUFNai3",
        "colab_type": "text"
      },
      "source": [
        "Step 2: Data transformation such as image rotation, flipping, normalization and conversion of images into tensors"
      ]
    },
    {
      "cell_type": "code",
      "metadata": {
        "id": "vowMNXWxNed7",
        "colab_type": "code",
        "colab": {}
      },
      "source": [
        "data_transforms = {\n",
        "    'train': transforms.Compose([\n",
        "        transforms.RandomRotation(15),\n",
        "        transforms.RandomHorizontalFlip(),\n",
        "        transforms.ToTensor(),\n",
        "        transforms.Normalize([0.485, 0.456, 0.406],\n",
        "                              [0.229, 0.224, 0.225])\n",
        "    ]),\n",
        "    'valid': transforms.Compose([\n",
        "        transforms.ToTensor(),\n",
        "        transforms.Normalize([0.485, 0.456, 0.406], \n",
        "                              [0.229, 0.224, 0.225])\n",
        "    ])\n",
        "}"
      ],
      "execution_count": 0,
      "outputs": []
    },
    {
      "cell_type": "markdown",
      "metadata": {
        "id": "pC8X0wk0Nupw",
        "colab_type": "text"
      },
      "source": [
        "Loading the images into dataloaders as trainloaders and testloaders for training"
      ]
    },
    {
      "cell_type": "code",
      "metadata": {
        "id": "JlcurqhbN3SB",
        "colab_type": "code",
        "colab": {}
      },
      "source": [
        "data = {x: datasets.ImageFolder(os.path.join(\"\",x),\n",
        "                                          data_transforms[x])\n",
        "                  for x in ['train', 'valid']}"
      ],
      "execution_count": 0,
      "outputs": []
    },
    {
      "cell_type": "code",
      "metadata": {
        "id": "rwXIM3_1YeOi",
        "colab_type": "code",
        "colab": {}
      },
      "source": [
        "dataloaders = {\n",
        "    'train': torch.utils.data.DataLoader(data['train'], batch_size=16, shuffle=True),\n",
        "    'valid': torch.utils.data.DataLoader(data['valid'], batch_size=4, shuffle=True)\n",
        "} "
      ],
      "execution_count": 0,
      "outputs": []
    },
    {
      "cell_type": "markdown",
      "metadata": {
        "id": "uaRwza3oN9eN",
        "colab_type": "text"
      },
      "source": [
        "Checking the train data loaded in dataloader"
      ]
    },
    {
      "cell_type": "code",
      "metadata": {
        "id": "aV5Ma1jL09cW",
        "colab_type": "code",
        "outputId": "5d49e1be-c592-4d15-a5ac-18802cd7ad90",
        "colab": {
          "base_uri": "https://localhost:8080/",
          "height": 1000
        }
      },
      "source": [
        "for data, targets in dataloaders['valid']:\n",
        "    print(data)\n",
        "    print(targets)\n",
        "    break"
      ],
      "execution_count": 0,
      "outputs": [
        {
          "output_type": "stream",
          "text": [
            "tensor([[[[-2.1179, -2.0665, -2.1179,  ..., -2.1179, -2.0665, -2.1179],\n",
            "          [-2.1008, -2.1179, -2.1008,  ..., -2.1179, -2.1179, -2.0665],\n",
            "          [-2.0494, -2.1179, -2.1179,  ..., -2.0665, -2.1179, -2.1008],\n",
            "          ...,\n",
            "          [-2.0665, -2.0837, -2.1179,  ..., -2.1179, -2.0837, -2.0665],\n",
            "          [-2.1179, -2.1179, -2.0323,  ..., -2.0837, -2.0837, -2.1179],\n",
            "          [-2.0837, -2.1179, -2.1179,  ..., -2.1179, -2.1008, -2.0665]],\n",
            "\n",
            "         [[-2.0357, -1.9832, -2.0357,  ..., -2.0357, -1.9832, -2.0357],\n",
            "          [-2.0182, -2.0357, -2.0182,  ..., -2.0357, -2.0357, -1.9832],\n",
            "          [-1.9657, -2.0357, -2.0357,  ..., -1.9832, -2.0357, -2.0182],\n",
            "          ...,\n",
            "          [-1.9832, -2.0007, -2.0357,  ..., -2.0357, -2.0007, -1.9832],\n",
            "          [-2.0357, -2.0357, -1.9482,  ..., -2.0007, -2.0007, -2.0357],\n",
            "          [-2.0007, -2.0357, -2.0357,  ..., -2.0357, -2.0182, -1.9832]],\n",
            "\n",
            "         [[-1.8044, -1.7522, -1.8044,  ..., -1.8044, -1.7522, -1.8044],\n",
            "          [-1.7870, -1.8044, -1.7870,  ..., -1.8044, -1.8044, -1.7522],\n",
            "          [-1.7347, -1.8044, -1.8044,  ..., -1.7522, -1.8044, -1.7870],\n",
            "          ...,\n",
            "          [-1.7522, -1.7696, -1.8044,  ..., -1.8044, -1.7696, -1.7522],\n",
            "          [-1.8044, -1.8044, -1.7173,  ..., -1.7696, -1.7696, -1.8044],\n",
            "          [-1.7696, -1.8044, -1.8044,  ..., -1.8044, -1.7870, -1.7522]]],\n",
            "\n",
            "\n",
            "        [[[-2.1008, -2.1179, -2.1179,  ..., -2.1179, -2.0665, -2.1179],\n",
            "          [-2.1179, -2.1179, -2.0837,  ..., -2.0837, -2.1179, -2.0837],\n",
            "          [-2.1179, -2.1179, -2.1179,  ..., -2.0837, -2.1179, -2.1179],\n",
            "          ...,\n",
            "          [-2.0494, -2.1008, -2.1179,  ..., -2.0665, -2.1179, -2.1008],\n",
            "          [-2.1179, -2.1179, -2.1179,  ..., -2.0665, -2.1179, -2.1179],\n",
            "          [-2.1179, -2.0837, -2.1179,  ..., -2.1179, -2.0837, -2.1179]],\n",
            "\n",
            "         [[-2.0182, -2.0357, -2.0357,  ..., -2.0357, -1.9832, -2.0357],\n",
            "          [-2.0357, -2.0357, -2.0007,  ..., -2.0007, -2.0357, -2.0007],\n",
            "          [-2.0357, -2.0357, -2.0357,  ..., -2.0007, -2.0357, -2.0357],\n",
            "          ...,\n",
            "          [-1.9657, -2.0182, -2.0357,  ..., -1.9832, -2.0357, -2.0182],\n",
            "          [-2.0357, -2.0357, -2.0357,  ..., -1.9832, -2.0357, -2.0357],\n",
            "          [-2.0357, -2.0007, -2.0357,  ..., -2.0357, -2.0007, -2.0357]],\n",
            "\n",
            "         [[-1.7870, -1.8044, -1.8044,  ..., -1.8044, -1.7522, -1.8044],\n",
            "          [-1.8044, -1.8044, -1.7696,  ..., -1.7696, -1.8044, -1.7696],\n",
            "          [-1.8044, -1.8044, -1.8044,  ..., -1.7696, -1.8044, -1.8044],\n",
            "          ...,\n",
            "          [-1.7347, -1.7870, -1.8044,  ..., -1.7522, -1.8044, -1.7870],\n",
            "          [-1.8044, -1.8044, -1.8044,  ..., -1.7522, -1.8044, -1.8044],\n",
            "          [-1.8044, -1.7696, -1.8044,  ..., -1.8044, -1.7696, -1.8044]]],\n",
            "\n",
            "\n",
            "        [[[-2.0152, -2.0494, -2.0323,  ..., -1.9809, -2.0152, -2.0152],\n",
            "          [-2.0494, -2.0152, -1.9809,  ..., -2.0323, -1.9467, -2.0494],\n",
            "          [-1.9809, -2.0837, -1.9980,  ..., -1.9809, -2.0837, -2.0152],\n",
            "          ...,\n",
            "          [-2.0494, -2.0323, -1.9980,  ..., -1.9980, -1.9809, -1.9980],\n",
            "          [-1.9467, -2.0837, -2.0152,  ..., -1.9809, -1.9638, -2.0323],\n",
            "          [-2.0152, -2.0152, -2.0152,  ..., -1.9980, -2.0665, -1.9980]],\n",
            "\n",
            "         [[-1.9307, -1.9657, -1.9482,  ..., -1.8957, -1.9307, -1.9307],\n",
            "          [-1.9657, -1.9307, -1.8957,  ..., -1.9482, -1.8606, -1.9657],\n",
            "          [-1.8957, -2.0007, -1.9132,  ..., -1.8957, -2.0007, -1.9307],\n",
            "          ...,\n",
            "          [-1.9657, -1.9482, -1.9132,  ..., -1.9132, -1.8957, -1.9132],\n",
            "          [-1.8606, -2.0007, -1.9307,  ..., -1.8957, -1.8782, -1.9482],\n",
            "          [-1.9307, -1.9307, -1.9307,  ..., -1.9132, -1.9832, -1.9132]],\n",
            "\n",
            "         [[-1.6999, -1.7347, -1.7173,  ..., -1.6650, -1.6999, -1.6999],\n",
            "          [-1.7347, -1.6999, -1.6650,  ..., -1.7173, -1.6302, -1.7347],\n",
            "          [-1.6650, -1.7696, -1.6824,  ..., -1.6650, -1.7696, -1.6999],\n",
            "          ...,\n",
            "          [-1.7347, -1.7173, -1.6824,  ..., -1.6824, -1.6650, -1.6824],\n",
            "          [-1.6302, -1.7696, -1.6999,  ..., -1.6650, -1.6476, -1.7173],\n",
            "          [-1.6999, -1.6999, -1.6999,  ..., -1.6824, -1.7522, -1.6824]]],\n",
            "\n",
            "\n",
            "        [[[-2.1179, -2.1179, -2.1179,  ..., -2.1008, -2.1008, -2.1179],\n",
            "          [-2.1179, -2.0152, -2.1179,  ..., -2.1179, -2.1008, -2.1179],\n",
            "          [-2.1179, -2.1179, -2.1179,  ..., -2.1179, -2.1179, -2.1179],\n",
            "          ...,\n",
            "          [-2.0837, -2.1179, -2.1179,  ..., -2.0837, -2.1179, -2.1179],\n",
            "          [-2.1179, -2.1179, -2.0665,  ..., -2.0837, -2.1179, -2.0837],\n",
            "          [-2.1179, -2.0665, -2.1179,  ..., -2.0837, -2.1179, -2.1179]],\n",
            "\n",
            "         [[-2.0357, -2.0357, -2.0357,  ..., -2.0182, -2.0182, -2.0357],\n",
            "          [-2.0357, -1.9307, -2.0357,  ..., -2.0357, -2.0182, -2.0357],\n",
            "          [-2.0357, -2.0357, -2.0357,  ..., -2.0357, -2.0357, -2.0357],\n",
            "          ...,\n",
            "          [-2.0007, -2.0357, -2.0357,  ..., -2.0007, -2.0357, -2.0357],\n",
            "          [-2.0357, -2.0357, -1.9832,  ..., -2.0007, -2.0357, -2.0007],\n",
            "          [-2.0357, -1.9832, -2.0357,  ..., -2.0007, -2.0357, -2.0357]],\n",
            "\n",
            "         [[-1.8044, -1.8044, -1.8044,  ..., -1.7870, -1.7870, -1.8044],\n",
            "          [-1.8044, -1.6999, -1.8044,  ..., -1.8044, -1.7870, -1.8044],\n",
            "          [-1.8044, -1.8044, -1.8044,  ..., -1.8044, -1.8044, -1.8044],\n",
            "          ...,\n",
            "          [-1.7696, -1.8044, -1.8044,  ..., -1.7696, -1.8044, -1.8044],\n",
            "          [-1.8044, -1.8044, -1.7522,  ..., -1.7696, -1.8044, -1.7696],\n",
            "          [-1.8044, -1.7522, -1.8044,  ..., -1.7696, -1.8044, -1.8044]]]])\n",
            "tensor([1, 1, 0, 1])\n"
          ],
          "name": "stdout"
        }
      ]
    },
    {
      "cell_type": "markdown",
      "metadata": {
        "id": "14kD-NDeOB0I",
        "colab_type": "text"
      },
      "source": [
        "# Defining the VGG16 Model"
      ]
    },
    {
      "cell_type": "code",
      "metadata": {
        "id": "Yvunmm5oNekr",
        "colab_type": "code",
        "outputId": "93598cee-8d02-484e-87f1-531a471ef780",
        "colab": {
          "base_uri": "https://localhost:8080/",
          "height": 104,
          "referenced_widgets": [
            "ff7c362c1d944584bf1de9e12b27b866",
            "6526eb95b6af47b88eed400fa5995417",
            "a24c04d9df9344ba9bf65456706ab3e8",
            "6e802702873942ebae2cd652642e59b7",
            "406deaf67155471f9245325d96691dc5",
            "84b6b408dbc44872b12a8660f3aaa2f6",
            "ff7d45d2f30941eb8aa22ed317c67164",
            "3b15fedaf33d49b9bd671cf59589146e"
          ]
        }
      },
      "source": [
        "model = models.vgg16(pretrained=True)"
      ],
      "execution_count": 0,
      "outputs": [
        {
          "output_type": "stream",
          "text": [
            "Downloading: \"https://download.pytorch.org/models/vgg16-397923af.pth\" to /root/.cache/torch/checkpoints/vgg16-397923af.pth\n"
          ],
          "name": "stderr"
        },
        {
          "output_type": "display_data",
          "data": {
            "application/vnd.jupyter.widget-view+json": {
              "model_id": "ff7c362c1d944584bf1de9e12b27b866",
              "version_minor": 0,
              "version_major": 2
            },
            "text/plain": [
              "HBox(children=(IntProgress(value=0, max=553433881), HTML(value='')))"
            ]
          },
          "metadata": {
            "tags": []
          }
        },
        {
          "output_type": "stream",
          "text": [
            "\n"
          ],
          "name": "stdout"
        }
      ]
    },
    {
      "cell_type": "markdown",
      "metadata": {
        "id": "otvbmqLwOHBZ",
        "colab_type": "text"
      },
      "source": [
        "Setting the parameters"
      ]
    },
    {
      "cell_type": "code",
      "metadata": {
        "id": "Vpv4EjsnNeoP",
        "colab_type": "code",
        "colab": {}
      },
      "source": [
        "for param in model.parameters():\n",
        "    param.requires_grad = False"
      ],
      "execution_count": 0,
      "outputs": []
    },
    {
      "cell_type": "markdown",
      "metadata": {
        "id": "iEIGrVNgOMcn",
        "colab_type": "text"
      },
      "source": [
        "Constructing the model with VGG"
      ]
    },
    {
      "cell_type": "code",
      "metadata": {
        "id": "dA1EvOJMNwz4",
        "colab_type": "code",
        "colab": {}
      },
      "source": [
        "model.classifier[6] = nn.Sequential(\n",
        "                      nn.Linear(4096, 256), \n",
        "                      nn.ReLU(), \n",
        "                      nn.Dropout(0.4),\n",
        "                      nn.Linear(256, 2),                   \n",
        "                      nn.LogSoftmax(dim=1))"
      ],
      "execution_count": 0,
      "outputs": []
    },
    {
      "cell_type": "markdown",
      "metadata": {
        "id": "tMcjvLmXOShP",
        "colab_type": "text"
      },
      "source": [
        "Summary of Model"
      ]
    },
    {
      "cell_type": "code",
      "metadata": {
        "id": "_4hmjlGuORhG",
        "colab_type": "code",
        "outputId": "377ada3e-8aa0-4607-ad0b-17698a270307",
        "colab": {
          "base_uri": "https://localhost:8080/",
          "height": 277
        }
      },
      "source": [
        "model.classifier"
      ],
      "execution_count": 0,
      "outputs": [
        {
          "output_type": "execute_result",
          "data": {
            "text/plain": [
              "Sequential(\n",
              "  (0): Linear(in_features=25088, out_features=4096, bias=True)\n",
              "  (1): ReLU(inplace=True)\n",
              "  (2): Dropout(p=0.5, inplace=False)\n",
              "  (3): Linear(in_features=4096, out_features=4096, bias=True)\n",
              "  (4): ReLU(inplace=True)\n",
              "  (5): Dropout(p=0.5, inplace=False)\n",
              "  (6): Sequential(\n",
              "    (0): Linear(in_features=4096, out_features=256, bias=True)\n",
              "    (1): ReLU()\n",
              "    (2): Dropout(p=0.4, inplace=False)\n",
              "    (3): Linear(in_features=256, out_features=2, bias=True)\n",
              "    (4): LogSoftmax()\n",
              "  )\n",
              ")"
            ]
          },
          "metadata": {
            "tags": []
          },
          "execution_count": 15
        }
      ]
    },
    {
      "cell_type": "markdown",
      "metadata": {
        "id": "trtBxBsROVix",
        "colab_type": "text"
      },
      "source": [
        "Declaring the parameters for model training"
      ]
    },
    {
      "cell_type": "code",
      "metadata": {
        "id": "Ec9s1ypGNw4M",
        "colab_type": "code",
        "outputId": "860203e8-ef77-4e64-ebd2-9f0df95de38f",
        "colab": {
          "base_uri": "https://localhost:8080/",
          "height": 52
        }
      },
      "source": [
        "total_params = sum(p.numel() for p in model.parameters())\n",
        "print(f'{total_params:,} total parameters.')\n",
        "total_trainable_params = sum(\n",
        "    p.numel() for p in model.parameters() if p.requires_grad)\n",
        "print(f'{total_trainable_params:,} training parameters.')"
      ],
      "execution_count": 0,
      "outputs": [
        {
          "output_type": "stream",
          "text": [
            "135,309,890 total parameters.\n",
            "1,049,346 training parameters.\n"
          ],
          "name": "stdout"
        }
      ]
    },
    {
      "cell_type": "markdown",
      "metadata": {
        "id": "3VYYdxTWOaO4",
        "colab_type": "text"
      },
      "source": [
        "Specifying Loss and optimizer Functions"
      ]
    },
    {
      "cell_type": "code",
      "metadata": {
        "id": "23VIkNBwNw8w",
        "colab_type": "code",
        "colab": {}
      },
      "source": [
        "criterion = nn.NLLLoss()\n",
        "optimizer = optim.Adam(model.parameters())"
      ],
      "execution_count": 0,
      "outputs": []
    },
    {
      "cell_type": "markdown",
      "metadata": {
        "id": "N-lTJhP_OgI9",
        "colab_type": "text"
      },
      "source": [
        "Training the model with brain train images"
      ]
    },
    {
      "cell_type": "code",
      "metadata": {
        "id": "6LwPeuOYNw_-",
        "colab_type": "code",
        "colab": {}
      },
      "source": [
        "for epoch in range(50):\n",
        "  for data, targets in dataloaders['train']:\n",
        "    # Generate predictions\n",
        "    out = model(data)\n",
        "    # Calculate loss\n",
        "    loss = criterion(out, targets)\n",
        "    # Backpropagation\n",
        "    loss.backward()\n",
        "    # Update model parameters\n",
        "    optimizer.step()"
      ],
      "execution_count": 0,
      "outputs": []
    },
    {
      "cell_type": "markdown",
      "metadata": {
        "id": "G9rk-RJSOk3a",
        "colab_type": "text"
      },
      "source": [
        "Testing the model on test data and calculating accuarcy "
      ]
    },
    {
      "cell_type": "code",
      "metadata": {
        "id": "Ze4R94lO9IWv",
        "colab_type": "code",
        "outputId": "4d993fb1-5732-4200-c826-c0466dba0103",
        "colab": {
          "base_uri": "https://localhost:8080/",
          "height": 52
        }
      },
      "source": [
        "val_loss=0\n",
        "correct=0\n",
        "for data, targets in dataloaders['valid']:\n",
        "  # Generate predictions \n",
        "  out = model(data)\n",
        "  # Calculate loss\n",
        "  loss = criterion(out, targets)\n",
        "  val_loss += loss\n",
        "  val_loss = val_loss / len(dataloaders['train'])\n",
        "\n",
        "  testloader=dataloaders['valid']\n",
        "  pred = out.max(1, keepdim=True)[1] \n",
        "  correct += pred.eq(targets.view_as(pred)).sum().item()\n",
        "  accuracy=100. * correct / len(testloader.dataset)\n",
        "  #print(\"Accuracy:\",accuracy)\n",
        "print('Test set: Average loss: {:.4f}\\nAccuracy: {}/{} ({:.0f}%)'.format(\n",
        "        val_loss, correct, len(testloader.dataset),\n",
        "        accuracy))"
      ],
      "execution_count": 0,
      "outputs": [
        {
          "output_type": "stream",
          "text": [
            "Test set: Average loss: 0.0680\n",
            "Accuracy: 29/51 (57%)\n"
          ],
          "name": "stdout"
        }
      ]
    },
    {
      "cell_type": "markdown",
      "metadata": {
        "id": "cxHs5BiWZujx",
        "colab_type": "text"
      },
      "source": [
        "Model Performance"
      ]
    },
    {
      "cell_type": "code",
      "metadata": {
        "id": "GnGl-p3LYSwC",
        "colab_type": "code",
        "colab": {}
      },
      "source": [
        "# printing accuracy and loss for each value in train set\n",
        "device = torch.device(\"cuda:0\" if torch.cuda.is_available() else \"cpu\")\n",
        "acc_train=[]\n",
        "loss_train=[]\n",
        "pred_train=[]\n",
        "trainloader=dataloaders['train']\n",
        "model.eval()\n",
        "test_loss = 0\n",
        "correct = 0\n",
        "with torch.no_grad():\n",
        "    for data, target in (trainloader):\n",
        "        data, target = data.to(device), target.to(device)\n",
        "        output = model(data)\n",
        "        test_loss = criterion(output, target).item()\n",
        "        pred = output.max(1, keepdim=True)[1] \n",
        "        pred_train.append(pred)\n",
        "        correct += pred.eq(target.view_as(pred)).sum().item()\n",
        "        accuracy=100. * correct / len(trainloader.dataset)\n",
        "        acc_train.append(accuracy)\n",
        "        loss_train.append(test_loss)\n",
        "epoch_count=range(1,14)\n",
        "\n",
        "# printing accuracy and loss for each value in validation set\n",
        "acc_valid=[]\n",
        "loss_valid=[]\n",
        "pred_valid=[]\n",
        "testloader=dataloaders['valid']\n",
        "model.eval()\n",
        "test_loss = 0\n",
        "correct = 0\n",
        "with torch.no_grad():\n",
        "    for data, target in (testloader):\n",
        "        data, target = data.to(device), target.to(device)\n",
        "        output = model(data)\n",
        "\n",
        "        test_loss = criterion(output, target).item()\n",
        "        pred = output.max(1, keepdim=True)[1] \n",
        "        pred_valid.append(pred)\n",
        "        correct += pred.eq(target.view_as(pred)).sum().item()\n",
        "        accuracy=100. * correct / len(testloader.dataset)\n",
        "        acc_valid.append(accuracy)\n",
        "        loss_valid.append(test_loss)\n",
        "epoch_count2=range(1,14)"
      ],
      "execution_count": 0,
      "outputs": []
    },
    {
      "cell_type": "code",
      "metadata": {
        "id": "O7uc1HM0ysM6",
        "colab_type": "code",
        "colab": {}
      },
      "source": [
        ""
      ],
      "execution_count": 0,
      "outputs": []
    },
    {
      "cell_type": "markdown",
      "metadata": {
        "id": "a6By6cXWZzqZ",
        "colab_type": "text"
      },
      "source": [
        "Accuracy Comparison"
      ]
    },
    {
      "cell_type": "code",
      "metadata": {
        "id": "jbSm4A5aYmAq",
        "colab_type": "code",
        "outputId": "3b96864f-2872-4919-ef35-57e5b6d4d4c2",
        "colab": {
          "base_uri": "https://localhost:8080/",
          "height": 299
        }
      },
      "source": [
        "plt.plot(epoch_count, acc_train, label='Train Set')\n",
        "plt.title(\"Model Accuracy Comparison\")\n",
        "plt.plot(epoch_count2, acc_valid, label='Valid Set')\n",
        "plt.legend(loc='lower right')"
      ],
      "execution_count": 0,
      "outputs": [
        {
          "output_type": "execute_result",
          "data": {
            "text/plain": [
              "<matplotlib.legend.Legend at 0x7f4010e7eb70>"
            ]
          },
          "metadata": {
            "tags": []
          },
          "execution_count": 24
        },
        {
          "output_type": "display_data",
          "data": {
            "image/png": "[encoded data removed]",
            "text/plain": [
              "<Figure size 432x288 with 1 Axes>"
            ]
          },
          "metadata": {
            "tags": [],
            "needs_background": "light"
          }
        }
      ]
    },
    {
      "cell_type": "markdown",
      "metadata": {
        "id": "iylCgcYYZ3sO",
        "colab_type": "text"
      },
      "source": [
        "Loss Comparison"
      ]
    },
    {
      "cell_type": "code",
      "metadata": {
        "id": "drmZ6vIzYqMS",
        "colab_type": "code",
        "outputId": "3b9ea316-075f-49eb-ce9f-5989fcb8656c",
        "colab": {
          "base_uri": "https://localhost:8080/",
          "height": 299
        }
      },
      "source": [
        "plt.plot(epoch_count, loss_train, label='Train Set')\n",
        "plt.plot(epoch_count2, loss_valid, label='Valid Set')\n",
        "plt.legend(loc='best')\n",
        "plt.title(\"Model Loss Comparison\")"
      ],
      "execution_count": 0,
      "outputs": [
        {
          "output_type": "execute_result",
          "data": {
            "text/plain": [
              "Text(0.5, 1.0, 'Model Loss Comparison')"
            ]
          },
          "metadata": {
            "tags": []
          },
          "execution_count": 25
        },
        {
          "output_type": "display_data",
          "data": {
            "image/png": "[encoded data removed]",
            "text/plain": [
              "<Figure size 432x288 with 1 Axes>"
            ]
          },
          "metadata": {
            "tags": [],
            "needs_background": "light"
          }
        }
      ]
    },
    {
      "cell_type": "markdown",
      "metadata": {
        "id": "RyxHWdRiZ7O-",
        "colab_type": "text"
      },
      "source": [
        "Confusion Matrix"
      ]
    },
    {
      "cell_type": "code",
      "metadata": {
        "id": "ruglyMc7Rz_-",
        "colab_type": "code",
        "outputId": "cd418e78-7c24-421c-b660-f15af93dba47",
        "colab": {
          "base_uri": "https://localhost:8080/",
          "height": 297
        }
      },
      "source": [
        "device = torch.device(\"cuda:0\" if torch.cuda.is_available() else \"cpu\")\n",
        "classes=['no', 'yes']\n",
        "nb_classes = 2   \n",
        "confusion_matrix = torch.zeros(nb_classes, nb_classes)\n",
        "\n",
        "with torch.no_grad():\n",
        "    for i, (inputs, target) in enumerate(dataloaders['valid']):\n",
        "\n",
        "        inputs = inputs.to(device)\n",
        "        target = target.to(device)\n",
        "\n",
        "        outputs = model(inputs)\n",
        "        _, preds = torch.max(outputs, 1)\n",
        "\n",
        "        for t, p in zip(target.view(-1), preds.view(-1)):\n",
        "                confusion_matrix[t.long(), p.long()] += 1\n",
        "\n",
        "num_classes = 2\n",
        "class_names = classes                \n",
        "\n",
        "plt.figure()\n",
        "plt.imshow(confusion_matrix, interpolation='nearest', cmap=plt.cm.Blues)\n",
        "\n",
        "tick_marks = np.arange(num_classes)\n",
        "classNames = class_names\n",
        "\n",
        "thresh = confusion_matrix.max() / 2.\n",
        "for i in range(confusion_matrix.shape[0]):\n",
        "    for j in range(confusion_matrix.shape[1]):\n",
        "        plt.text(j, i, format(confusion_matrix[i, j]),\n",
        "                ha=\"center\", va=\"center\",\n",
        "                color=\"white\" if  confusion_matrix[i, j] == 0 or confusion_matrix[i, j] > thresh else \"black\") \n",
        "plt.tight_layout()\n",
        "plt.colorbar()\n",
        "plt.show()"
      ],
      "execution_count": 0,
      "outputs": [
        {
          "output_type": "display_data",
          "data": {
            "image/png": "[encoded data removed]",
            "text/plain": [
              "<Figure size 432x288 with 2 Axes>"
            ]
          },
          "metadata": {
            "tags": [],
            "needs_background": "light"
          }
        }
      ]
    }
  ]
}